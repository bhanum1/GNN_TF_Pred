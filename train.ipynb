{
 "cells": [
  {
   "cell_type": "code",
   "execution_count": 1,
   "metadata": {},
   "outputs": [
    {
     "name": "stdout",
     "output_type": "stream",
     "text": [
      "Collecting git+https://github.com/bhanum1/chemprop.git\n",
      "  Cloning https://github.com/bhanum1/chemprop.git to /private/var/folders/zc/4s3mlcg52hsc3yv3kb_vjk5h0000gn/T/pip-req-build-zf23t9ct\n",
      "  Running command git clone --filter=blob:none --quiet https://github.com/bhanum1/chemprop.git /private/var/folders/zc/4s3mlcg52hsc3yv3kb_vjk5h0000gn/T/pip-req-build-zf23t9ct\n",
      "  Resolved https://github.com/bhanum1/chemprop.git to commit f1f52e1b011352a8edfeb61efac76c28d3c3e413\n",
      "  Installing build dependencies ... \u001b[?25ldone\n",
      "\u001b[?25h  Getting requirements to build wheel ... \u001b[?25ldone\n",
      "\u001b[?25h  Preparing metadata (pyproject.toml) ... \u001b[?25ldone\n",
      "\u001b[?25hRequirement already satisfied: lightning>=2.0 in /Users/bhanumamillapalli/miniconda3/envs/chemprop_git/lib/python3.11/site-packages (from chemprop==2.0.0) (2.2.5)\n",
      "Requirement already satisfied: numpy in /Users/bhanumamillapalli/miniconda3/envs/chemprop_git/lib/python3.11/site-packages (from chemprop==2.0.0) (1.26.4)\n",
      "Requirement already satisfied: pandas in /Users/bhanumamillapalli/miniconda3/envs/chemprop_git/lib/python3.11/site-packages (from chemprop==2.0.0) (2.2.2)\n",
      "Requirement already satisfied: rdkit in /Users/bhanumamillapalli/miniconda3/envs/chemprop_git/lib/python3.11/site-packages (from chemprop==2.0.0) (2023.9.6)\n",
      "Requirement already satisfied: scikit-learn in /Users/bhanumamillapalli/miniconda3/envs/chemprop_git/lib/python3.11/site-packages (from chemprop==2.0.0) (1.5.0)\n",
      "Requirement already satisfied: scipy in /Users/bhanumamillapalli/miniconda3/envs/chemprop_git/lib/python3.11/site-packages (from chemprop==2.0.0) (1.13.1)\n",
      "Requirement already satisfied: torch>=2.1 in /Users/bhanumamillapalli/miniconda3/envs/chemprop_git/lib/python3.11/site-packages (from chemprop==2.0.0) (2.3.0)\n",
      "Requirement already satisfied: astartes[molecules] in /Users/bhanumamillapalli/miniconda3/envs/chemprop_git/lib/python3.11/site-packages (from chemprop==2.0.0) (1.2.2)\n",
      "Requirement already satisfied: ConfigArgParse in /Users/bhanumamillapalli/miniconda3/envs/chemprop_git/lib/python3.11/site-packages (from chemprop==2.0.0) (1.7)\n",
      "Requirement already satisfied: PyYAML<8.0,>=5.4 in /Users/bhanumamillapalli/miniconda3/envs/chemprop_git/lib/python3.11/site-packages (from lightning>=2.0->chemprop==2.0.0) (6.0.1)\n",
      "Requirement already satisfied: fsspec<2025.0,>=2022.5.0 in /Users/bhanumamillapalli/miniconda3/envs/chemprop_git/lib/python3.11/site-packages (from fsspec[http]<2025.0,>=2022.5.0->lightning>=2.0->chemprop==2.0.0) (2024.6.0)\n",
      "Requirement already satisfied: lightning-utilities<2.0,>=0.8.0 in /Users/bhanumamillapalli/miniconda3/envs/chemprop_git/lib/python3.11/site-packages (from lightning>=2.0->chemprop==2.0.0) (0.11.2)\n",
      "Requirement already satisfied: packaging<25.0,>=20.0 in /Users/bhanumamillapalli/miniconda3/envs/chemprop_git/lib/python3.11/site-packages (from lightning>=2.0->chemprop==2.0.0) (24.0)\n",
      "Requirement already satisfied: torchmetrics<3.0,>=0.7.0 in /Users/bhanumamillapalli/miniconda3/envs/chemprop_git/lib/python3.11/site-packages (from lightning>=2.0->chemprop==2.0.0) (1.4.0.post0)\n",
      "Requirement already satisfied: tqdm<6.0,>=4.57.0 in /Users/bhanumamillapalli/miniconda3/envs/chemprop_git/lib/python3.11/site-packages (from lightning>=2.0->chemprop==2.0.0) (4.66.4)\n",
      "Requirement already satisfied: typing-extensions<6.0,>=4.4.0 in /Users/bhanumamillapalli/miniconda3/envs/chemprop_git/lib/python3.11/site-packages (from lightning>=2.0->chemprop==2.0.0) (4.12.1)\n",
      "Requirement already satisfied: pytorch-lightning in /Users/bhanumamillapalli/miniconda3/envs/chemprop_git/lib/python3.11/site-packages (from lightning>=2.0->chemprop==2.0.0) (2.2.5)\n",
      "Requirement already satisfied: filelock in /Users/bhanumamillapalli/miniconda3/envs/chemprop_git/lib/python3.11/site-packages (from torch>=2.1->chemprop==2.0.0) (3.14.0)\n",
      "Requirement already satisfied: sympy in /Users/bhanumamillapalli/miniconda3/envs/chemprop_git/lib/python3.11/site-packages (from torch>=2.1->chemprop==2.0.0) (1.12.1)\n",
      "Requirement already satisfied: networkx in /Users/bhanumamillapalli/miniconda3/envs/chemprop_git/lib/python3.11/site-packages (from torch>=2.1->chemprop==2.0.0) (3.3)\n",
      "Requirement already satisfied: jinja2 in /Users/bhanumamillapalli/miniconda3/envs/chemprop_git/lib/python3.11/site-packages (from torch>=2.1->chemprop==2.0.0) (3.1.4)\n",
      "Requirement already satisfied: tabulate in /Users/bhanumamillapalli/miniconda3/envs/chemprop_git/lib/python3.11/site-packages (from astartes[molecules]->chemprop==2.0.0) (0.9.0)\n",
      "Requirement already satisfied: aimsim-core in /Users/bhanumamillapalli/miniconda3/envs/chemprop_git/lib/python3.11/site-packages (from astartes[molecules]->chemprop==2.0.0) (2.2.1)\n",
      "Requirement already satisfied: python-dateutil>=2.8.2 in /Users/bhanumamillapalli/miniconda3/envs/chemprop_git/lib/python3.11/site-packages (from pandas->chemprop==2.0.0) (2.9.0)\n",
      "Requirement already satisfied: pytz>=2020.1 in /Users/bhanumamillapalli/miniconda3/envs/chemprop_git/lib/python3.11/site-packages (from pandas->chemprop==2.0.0) (2024.1)\n",
      "Requirement already satisfied: tzdata>=2022.7 in /Users/bhanumamillapalli/miniconda3/envs/chemprop_git/lib/python3.11/site-packages (from pandas->chemprop==2.0.0) (2024.1)\n",
      "Requirement already satisfied: Pillow in /Users/bhanumamillapalli/miniconda3/envs/chemprop_git/lib/python3.11/site-packages (from rdkit->chemprop==2.0.0) (10.3.0)\n",
      "Requirement already satisfied: joblib>=1.2.0 in /Users/bhanumamillapalli/miniconda3/envs/chemprop_git/lib/python3.11/site-packages (from scikit-learn->chemprop==2.0.0) (1.4.2)\n",
      "Requirement already satisfied: threadpoolctl>=3.1.0 in /Users/bhanumamillapalli/miniconda3/envs/chemprop_git/lib/python3.11/site-packages (from scikit-learn->chemprop==2.0.0) (3.5.0)\n",
      "Requirement already satisfied: aiohttp!=4.0.0a0,!=4.0.0a1 in /Users/bhanumamillapalli/miniconda3/envs/chemprop_git/lib/python3.11/site-packages (from fsspec[http]<2025.0,>=2022.5.0->lightning>=2.0->chemprop==2.0.0) (3.9.5)\n",
      "Requirement already satisfied: setuptools in /Users/bhanumamillapalli/miniconda3/envs/chemprop_git/lib/python3.11/site-packages (from lightning-utilities<2.0,>=0.8.0->lightning>=2.0->chemprop==2.0.0) (69.5.1)\n",
      "Requirement already satisfied: six>=1.5 in /Users/bhanumamillapalli/miniconda3/envs/chemprop_git/lib/python3.11/site-packages (from python-dateutil>=2.8.2->pandas->chemprop==2.0.0) (1.16.0)\n",
      "Requirement already satisfied: psutil in /Users/bhanumamillapalli/miniconda3/envs/chemprop_git/lib/python3.11/site-packages (from aimsim-core->astartes[molecules]->chemprop==2.0.0) (5.9.0)\n",
      "Requirement already satisfied: padelpy in /Users/bhanumamillapalli/miniconda3/envs/chemprop_git/lib/python3.11/site-packages (from aimsim-core->astartes[molecules]->chemprop==2.0.0) (0.1.16)\n",
      "Requirement already satisfied: mhfp in /Users/bhanumamillapalli/miniconda3/envs/chemprop_git/lib/python3.11/site-packages (from aimsim-core->astartes[molecules]->chemprop==2.0.0) (1.9.6)\n",
      "Requirement already satisfied: mordredcommunity in /Users/bhanumamillapalli/miniconda3/envs/chemprop_git/lib/python3.11/site-packages (from aimsim-core->astartes[molecules]->chemprop==2.0.0) (2.0.5)\n",
      "Requirement already satisfied: multiprocess>=0.70 in /Users/bhanumamillapalli/miniconda3/envs/chemprop_git/lib/python3.11/site-packages (from aimsim-core->astartes[molecules]->chemprop==2.0.0) (0.70.16)\n",
      "Requirement already satisfied: MarkupSafe>=2.0 in /Users/bhanumamillapalli/miniconda3/envs/chemprop_git/lib/python3.11/site-packages (from jinja2->torch>=2.1->chemprop==2.0.0) (2.1.5)\n",
      "Requirement already satisfied: mpmath<1.4.0,>=1.1.0 in /Users/bhanumamillapalli/miniconda3/envs/chemprop_git/lib/python3.11/site-packages (from sympy->torch>=2.1->chemprop==2.0.0) (1.3.0)\n",
      "Requirement already satisfied: aiosignal>=1.1.2 in /Users/bhanumamillapalli/miniconda3/envs/chemprop_git/lib/python3.11/site-packages (from aiohttp!=4.0.0a0,!=4.0.0a1->fsspec[http]<2025.0,>=2022.5.0->lightning>=2.0->chemprop==2.0.0) (1.3.1)\n",
      "Requirement already satisfied: attrs>=17.3.0 in /Users/bhanumamillapalli/miniconda3/envs/chemprop_git/lib/python3.11/site-packages (from aiohttp!=4.0.0a0,!=4.0.0a1->fsspec[http]<2025.0,>=2022.5.0->lightning>=2.0->chemprop==2.0.0) (23.2.0)\n",
      "Requirement already satisfied: frozenlist>=1.1.1 in /Users/bhanumamillapalli/miniconda3/envs/chemprop_git/lib/python3.11/site-packages (from aiohttp!=4.0.0a0,!=4.0.0a1->fsspec[http]<2025.0,>=2022.5.0->lightning>=2.0->chemprop==2.0.0) (1.4.1)\n",
      "Requirement already satisfied: multidict<7.0,>=4.5 in /Users/bhanumamillapalli/miniconda3/envs/chemprop_git/lib/python3.11/site-packages (from aiohttp!=4.0.0a0,!=4.0.0a1->fsspec[http]<2025.0,>=2022.5.0->lightning>=2.0->chemprop==2.0.0) (6.0.5)\n",
      "Requirement already satisfied: yarl<2.0,>=1.0 in /Users/bhanumamillapalli/miniconda3/envs/chemprop_git/lib/python3.11/site-packages (from aiohttp!=4.0.0a0,!=4.0.0a1->fsspec[http]<2025.0,>=2022.5.0->lightning>=2.0->chemprop==2.0.0) (1.9.4)\n",
      "Requirement already satisfied: dill>=0.3.8 in /Users/bhanumamillapalli/miniconda3/envs/chemprop_git/lib/python3.11/site-packages (from multiprocess>=0.70->aimsim-core->astartes[molecules]->chemprop==2.0.0) (0.3.8)\n",
      "Requirement already satisfied: idna>=2.0 in /Users/bhanumamillapalli/miniconda3/envs/chemprop_git/lib/python3.11/site-packages (from yarl<2.0,>=1.0->aiohttp!=4.0.0a0,!=4.0.0a1->fsspec[http]<2025.0,>=2022.5.0->lightning>=2.0->chemprop==2.0.0) (3.7)\n"
     ]
    }
   ],
   "source": [
    "!pip install git+https://github.com/bhanum1/chemprop.git\n",
    "from chemprop import data\n",
    "import pandas as pd"
   ]
  },
  {
   "cell_type": "code",
   "execution_count": 11,
   "metadata": {},
   "outputs": [],
   "source": [
    "from chemprop.cli.utils.parsing import build_data_from_files, make_dataset\n",
    "from pathlib import Path\n",
    "\n",
    "batch_size = 64\n",
    "num_workers = 0\n",
    "\n",
    "input_path = './Datasets/viscosity_data.csv' # path to your data .csv file\n",
    "df = pd.read_csv(input_path) #convert to dataframe\n",
    "\n",
    "smis = df['smiles']\n",
    "targets = df['Viscosity']\n",
    "temps = df['temperature']\n",
    "lnA_targets = df['lnA']\n",
    "\n",
    "all_data = [data.MoleculeDatapoint.from_smi(smi, y, temp=temp, lnA_target=lnA) for smi, y,temp,lnA in zip(smis, targets,temps,lnA_targets)]\n",
    "mols = [d.mol for d in all_data]  # RDkit Mol objects are use for structure based splits\n",
    "\n",
    "\n",
    "grouped = df.groupby(df['splits'].str.lower())\n",
    "train_indices = grouped.groups.get(\"train\", pd.Index([])).tolist()\n",
    "val_indices = grouped.groups.get(\"val\", pd.Index([])).tolist()\n",
    "test_indices = grouped.groups.get(\"test\", pd.Index([])).tolist()\n",
    "train_indices, val_indices, test_indices = [train_indices], [val_indices], [test_indices]\n",
    "\n",
    "train_data, val_data, test_data = data.split_data_by_indices(\n",
    "    all_data, train_indices, val_indices, test_indices\n",
    ")\n",
    "\n",
    "train_data = train_data[0]\n",
    "val_data = val_data[0]\n",
    "test_data = test_data[0]\n",
    "\n",
    "train_dset = make_dataset(train_data, reaction_mode='REAC_PROD')\n",
    "val_dset = make_dataset(val_data,reaction_mode='REAC_PROD')\n",
    "test_dset = make_dataset(test_data, reaction_mode='REAC_PROD')\n",
    "\n",
    "train_loader = data.build_dataloader(train_dset, batch_size=batch_size, num_workers=num_workers, shuffle = False)\n",
    "val_loader = data.build_dataloader(val_dset, batch_size=batch_size, num_workers=num_workers, shuffle=False)\n",
    "test_loader = data.build_dataloader(test_dset, batch_size=batch_size, num_workers=num_workers, shuffle=False)\n"
   ]
  },
  {
   "cell_type": "code",
   "execution_count": 12,
   "metadata": {},
   "outputs": [],
   "source": [
    "class Args():\n",
    "    def __init__(self, data_path, output_dir, ensemble_size, \n",
    "                 message_hidden_dim, depth, dropout, activation, aggregation, \n",
    "                 aggregation_norm, ffn_hidden_dim, ffn_num_layers, loss_reg, \n",
    "                 model_frzn, warmup_epochs,target_columns\n",
    "                  ):\n",
    "        \n",
    "        self.data_path = Path(data_path)\n",
    "        self.output_dir = Path(output_dir)\n",
    "        self.ensemble_size = ensemble_size\n",
    "        self.message_hidden_dim = message_hidden_dim\n",
    "        self.depth=depth\n",
    "        self.dropout=dropout\n",
    "        self.activation = activation\n",
    "        self.aggregation = aggregation\n",
    "        self.aggregation_norm = aggregation_norm\n",
    "        self.ffn_hidden_dim = ffn_hidden_dim\n",
    "        self.ffn_num_layers = ffn_num_layers\n",
    "        self.loss_reg = loss_reg\n",
    "        self.warmup_epochs = warmup_epochs\n",
    "        self.init_lr = 0.001\n",
    "        self.max_lr = 0.0001\n",
    "        self.final_lr = 0.001\n",
    "        self.epochs = 5\n",
    "        self.accelerator='cpu'\n",
    "        self.devices = 'auto'\n",
    "        self.target_columns = [target_columns]\n",
    "\n",
    "        self.model_frzn = model_frzn\n",
    "        self.smiles_columns = ['smiles']\n",
    "        self.reaction_columns = None\n",
    "        self.splits_column = 'splits'\n",
    "        self.ignore_columns = None\n",
    "        self.weight_column = None\n",
    "\n",
    "\n",
    "        self.grad_clip = 0\n",
    "        self.patience = None\n",
    "        self.no_batch_norm = False\n",
    "        self.undirected = False\n",
    "        self.message_bias = False\n",
    "        self.pytorch_seed = 0\n",
    "        self.v_kl = 0.0\n",
    "        self.eps = 1e-08\n",
    "        self.task_type = 'regression'\n",
    "        self.loss_function='mse'\n",
    "        self.task_weights = [1]\n",
    "        self.atom_messages = False\n",
    "        self.metrics=['mse']\n",
    "        self.multiclass_num_classes = 3\n",
    "        self.no_header_row = False\n",
    "\n",
    "args = Args(data_path='./Datasets/viscosity_data.csv',\n",
    "            output_dir='./Chemprop_Models/', ensemble_size=1, \n",
    "            message_hidden_dim=300, depth=3, dropout=0.0, \n",
    "            activation='RELU', aggregation='mean', aggregation_norm=100, \n",
    "            ffn_hidden_dim=300, ffn_num_layers=1, loss_reg=0.0, \n",
    "            model_frzn=None, warmup_epochs=2, target_columns='Viscosity')"
   ]
  },
  {
   "cell_type": "code",
   "execution_count": 13,
   "metadata": {},
   "outputs": [
    {
     "name": "stderr",
     "output_type": "stream",
     "text": [
      "GPU available: True (mps), used: False\n",
      "TPU available: False, using: 0 TPU cores\n",
      "IPU available: False, using: 0 IPUs\n",
      "HPU available: False, using: 0 HPUs\n",
      "/Users/bhanumamillapalli/miniconda3/envs/chemprop_git/lib/python3.11/site-packages/lightning/pytorch/trainer/setup.py:187: GPU available but not used. You can set it by doing `Trainer(accelerator='gpu')`.\n",
      "/Users/bhanumamillapalli/miniconda3/envs/chemprop_git/lib/python3.11/site-packages/lightning/pytorch/callbacks/model_checkpoint.py:653: Checkpoint directory /Users/bhanumamillapalli/Documents/GitHub/GNN_TF_Pred/Chemprop_Models/model_0/checkpoints exists and is not empty.\n",
      "Loading `train_dataloader` to estimate number of stepping batches.\n",
      "/Users/bhanumamillapalli/miniconda3/envs/chemprop_git/lib/python3.11/site-packages/lightning/pytorch/trainer/connectors/data_connector.py:441: The 'train_dataloader' does not have many workers which may be a bottleneck. Consider increasing the value of the `num_workers` argument` to `num_workers=7` in the `DataLoader` to improve performance.\n",
      "/Users/bhanumamillapalli/miniconda3/envs/chemprop_git/lib/python3.11/site-packages/lightning/pytorch/loops/fit_loop.py:298: The number of training batches (35) is smaller than the logging interval Trainer(log_every_n_steps=50). Set a lower value for log_every_n_steps if you want to see logs for the training epoch.\n",
      "\n",
      "  | Name            | Type               | Params\n",
      "-------------------------------------------------------\n",
      "0 | message_passing | BondMessagePassing | 227 K \n",
      "1 | agg             | MeanAggregation    | 0     \n",
      "2 | bn              | BatchNorm1d        | 600   \n",
      "3 | predictor       | RegressionFFN      | 135 K \n",
      "-------------------------------------------------------\n",
      "364 K     Trainable params\n",
      "0         Non-trainable params\n",
      "364 K     Total params\n",
      "1.456     Total estimated model params size (MB)\n"
     ]
    },
    {
     "name": "stdout",
     "output_type": "stream",
     "text": [
      "[300, 300, 150, 2]\n",
      "                                                                           "
     ]
    },
    {
     "name": "stderr",
     "output_type": "stream",
     "text": [
      "/Users/bhanumamillapalli/miniconda3/envs/chemprop_git/lib/python3.11/site-packages/lightning/pytorch/trainer/connectors/data_connector.py:441: The 'val_dataloader' does not have many workers which may be a bottleneck. Consider increasing the value of the `num_workers` argument` to `num_workers=7` in the `DataLoader` to improve performance.\n"
     ]
    },
    {
     "name": "stdout",
     "output_type": "stream",
     "text": [
      "Epoch 4: 100%|██████████| 35/35 [00:02<00:00, 15.00it/s, v_num=1, train_loss=1.500, val_loss=1.160]"
     ]
    },
    {
     "name": "stderr",
     "output_type": "stream",
     "text": [
      "`Trainer.fit` stopped: `max_epochs=5` reached.\n"
     ]
    },
    {
     "name": "stdout",
     "output_type": "stream",
     "text": [
      "Epoch 4: 100%|██████████| 35/35 [00:02<00:00, 14.95it/s, v_num=1, train_loss=1.500, val_loss=1.160]"
     ]
    },
    {
     "name": "stderr",
     "output_type": "stream",
     "text": [
      "/Users/bhanumamillapalli/miniconda3/envs/chemprop_git/lib/python3.11/site-packages/lightning/pytorch/trainer/connectors/checkpoint_connector.py:145: `.predict(ckpt_path=None)` was called without a model. The best model of the previous `fit` call will be used. You can pass `.predict(ckpt_path='best')` to use the best model or `.predict(ckpt_path='last')` to use the last model. If you pass a value, this warning will be silenced.\n",
      "Restoring states from the checkpoint path at /Users/bhanumamillapalli/Documents/GitHub/GNN_TF_Pred/Chemprop_Models/model_0/checkpoints/best-epoch=1-val_loss=0.71-v1.ckpt\n",
      "Loaded model weights from the checkpoint at /Users/bhanumamillapalli/Documents/GitHub/GNN_TF_Pred/Chemprop_Models/model_0/checkpoints/best-epoch=1-val_loss=0.71-v1.ckpt\n",
      "/Users/bhanumamillapalli/miniconda3/envs/chemprop_git/lib/python3.11/site-packages/lightning/pytorch/trainer/connectors/data_connector.py:441: The 'predict_dataloader' does not have many workers which may be a bottleneck. Consider increasing the value of the `num_workers` argument` to `num_workers=7` in the `DataLoader` to improve performance.\n"
     ]
    },
    {
     "name": "stdout",
     "output_type": "stream",
     "text": [
      "\n",
      "Predicting DataLoader 0: 100%|██████████| 5/5 [00:00<00:00, 37.01it/s]\n",
      "No Ea / R targets provided\n",
      "Entire Test Set results: {'entire_test/mse': 0.7071724103278294}\n",
      "[300, 300, 150, 2]\n"
     ]
    }
   ],
   "source": [
    "from chemprop.cli.train import *\n",
    "from pathlib import Path\n",
    "\n",
    "input_transforms = [[None],[None],[None]]\n",
    "output_transform = None\n",
    "\n",
    "train_loader.dataset.Y = train_loader.dataset.Y.reshape(-1,1)\n",
    "val_loader.dataset.Y = val_loader.dataset.Y.reshape(-1,1)\n",
    "test_loader.dataset.Y = test_loader.dataset.Y.reshape(-1,1)\n",
    "\n",
    "train_model(\n",
    "    args,\n",
    "    train_loader,\n",
    "    val_loader,\n",
    "    test_loader,\n",
    "    args.output_dir,\n",
    "    output_transform,\n",
    "    input_transforms,\n",
    ")"
   ]
  }
 ],
 "metadata": {
  "kernelspec": {
   "display_name": "chemprop_git",
   "language": "python",
   "name": "python3"
  },
  "language_info": {
   "codemirror_mode": {
    "name": "ipython",
    "version": 3
   },
   "file_extension": ".py",
   "mimetype": "text/x-python",
   "name": "python",
   "nbconvert_exporter": "python",
   "pygments_lexer": "ipython3",
   "version": "3.11.9"
  }
 },
 "nbformat": 4,
 "nbformat_minor": 2
}
